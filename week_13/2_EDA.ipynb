{
 "cells": [
  {
   "cell_type": "markdown",
   "metadata": {},
   "source": [
    "# Healthcare - Persistency of a Drug"
   ]
  },
  {
   "cell_type": "markdown",
   "metadata": {},
   "source": [
    "## <u> Exploratory Data Analysis </u>"
   ]
  },
  {
   "cell_type": "markdown",
   "metadata": {},
   "source": [
    "Import libraries"
   ]
  },
  {
   "cell_type": "code",
   "execution_count": 32,
   "metadata": {},
   "outputs": [],
   "source": [
    "import pandas as pd\n",
    "import numpy as np\n",
    "import matplotlib.pyplot as plt\n",
    "import seaborn as sns\n",
    "import math"
   ]
  },
  {
   "cell_type": "markdown",
   "metadata": {},
   "source": [
    "Read cleaned data"
   ]
  },
  {
   "cell_type": "code",
   "execution_count": 33,
   "metadata": {},
   "outputs": [
    {
     "data": {
      "text/html": [
       "<div>\n",
       "<style scoped>\n",
       "    .dataframe tbody tr th:only-of-type {\n",
       "        vertical-align: middle;\n",
       "    }\n",
       "\n",
       "    .dataframe tbody tr th {\n",
       "        vertical-align: top;\n",
       "    }\n",
       "\n",
       "    .dataframe thead th {\n",
       "        text-align: right;\n",
       "    }\n",
       "</style>\n",
       "<table border=\"1\" class=\"dataframe\">\n",
       "  <thead>\n",
       "    <tr style=\"text-align: right;\">\n",
       "      <th></th>\n",
       "      <th>Persistency_Flag</th>\n",
       "      <th>Gender</th>\n",
       "      <th>Race</th>\n",
       "      <th>Ethnicity</th>\n",
       "      <th>Region</th>\n",
       "      <th>Age_Bucket</th>\n",
       "      <th>Ntm_Speciality</th>\n",
       "      <th>Ntm_Specialist_Flag</th>\n",
       "      <th>Ntm_Speciality_Bucket</th>\n",
       "      <th>Gluco_Record_Prior_Ntm</th>\n",
       "      <th>...</th>\n",
       "      <th>Risk_Vitamin_D_Insufficiency</th>\n",
       "      <th>Risk_Poor_Health_Frailty</th>\n",
       "      <th>Risk_Excessive_Thinness</th>\n",
       "      <th>Risk_Hysterectomy_Oophorectomy</th>\n",
       "      <th>Risk_Estrogen_Deficiency</th>\n",
       "      <th>Risk_Immobilization</th>\n",
       "      <th>Risk_Recurring_Falls</th>\n",
       "      <th>Count_Of_Risks</th>\n",
       "      <th>min_max_Dexa_Freq_During_Rx</th>\n",
       "      <th>min_max_Count_Of_Risks</th>\n",
       "    </tr>\n",
       "  </thead>\n",
       "  <tbody>\n",
       "    <tr>\n",
       "      <th>0</th>\n",
       "      <td>Persistent</td>\n",
       "      <td>Male</td>\n",
       "      <td>Caucasian</td>\n",
       "      <td>Not Hispanic</td>\n",
       "      <td>West</td>\n",
       "      <td>&gt;75</td>\n",
       "      <td>GENERAL PRACTITIONER</td>\n",
       "      <td>Others</td>\n",
       "      <td>OB/GYN/Others/PCP/Unknown</td>\n",
       "      <td>N</td>\n",
       "      <td>...</td>\n",
       "      <td>N</td>\n",
       "      <td>N</td>\n",
       "      <td>N</td>\n",
       "      <td>N</td>\n",
       "      <td>N</td>\n",
       "      <td>N</td>\n",
       "      <td>N</td>\n",
       "      <td>0</td>\n",
       "      <td>0.0</td>\n",
       "      <td>0.00</td>\n",
       "    </tr>\n",
       "    <tr>\n",
       "      <th>1</th>\n",
       "      <td>Non-Persistent</td>\n",
       "      <td>Male</td>\n",
       "      <td>Asian</td>\n",
       "      <td>Not Hispanic</td>\n",
       "      <td>West</td>\n",
       "      <td>55-65</td>\n",
       "      <td>GENERAL PRACTITIONER</td>\n",
       "      <td>Others</td>\n",
       "      <td>OB/GYN/Others/PCP/Unknown</td>\n",
       "      <td>N</td>\n",
       "      <td>...</td>\n",
       "      <td>N</td>\n",
       "      <td>N</td>\n",
       "      <td>N</td>\n",
       "      <td>N</td>\n",
       "      <td>N</td>\n",
       "      <td>N</td>\n",
       "      <td>N</td>\n",
       "      <td>0</td>\n",
       "      <td>0.0</td>\n",
       "      <td>0.00</td>\n",
       "    </tr>\n",
       "    <tr>\n",
       "      <th>2</th>\n",
       "      <td>Non-Persistent</td>\n",
       "      <td>Female</td>\n",
       "      <td>Caucasian</td>\n",
       "      <td>Hispanic</td>\n",
       "      <td>Midwest</td>\n",
       "      <td>65-75</td>\n",
       "      <td>GENERAL PRACTITIONER</td>\n",
       "      <td>Others</td>\n",
       "      <td>OB/GYN/Others/PCP/Unknown</td>\n",
       "      <td>N</td>\n",
       "      <td>...</td>\n",
       "      <td>N</td>\n",
       "      <td>N</td>\n",
       "      <td>N</td>\n",
       "      <td>N</td>\n",
       "      <td>N</td>\n",
       "      <td>N</td>\n",
       "      <td>N</td>\n",
       "      <td>2</td>\n",
       "      <td>0.0</td>\n",
       "      <td>0.50</td>\n",
       "    </tr>\n",
       "    <tr>\n",
       "      <th>3</th>\n",
       "      <td>Non-Persistent</td>\n",
       "      <td>Female</td>\n",
       "      <td>Caucasian</td>\n",
       "      <td>Not Hispanic</td>\n",
       "      <td>Midwest</td>\n",
       "      <td>&gt;75</td>\n",
       "      <td>GENERAL PRACTITIONER</td>\n",
       "      <td>Others</td>\n",
       "      <td>OB/GYN/Others/PCP/Unknown</td>\n",
       "      <td>N</td>\n",
       "      <td>...</td>\n",
       "      <td>N</td>\n",
       "      <td>N</td>\n",
       "      <td>N</td>\n",
       "      <td>N</td>\n",
       "      <td>N</td>\n",
       "      <td>N</td>\n",
       "      <td>N</td>\n",
       "      <td>1</td>\n",
       "      <td>0.0</td>\n",
       "      <td>0.25</td>\n",
       "    </tr>\n",
       "    <tr>\n",
       "      <th>4</th>\n",
       "      <td>Non-Persistent</td>\n",
       "      <td>Female</td>\n",
       "      <td>Caucasian</td>\n",
       "      <td>Not Hispanic</td>\n",
       "      <td>Midwest</td>\n",
       "      <td>&gt;75</td>\n",
       "      <td>GENERAL PRACTITIONER</td>\n",
       "      <td>Others</td>\n",
       "      <td>OB/GYN/Others/PCP/Unknown</td>\n",
       "      <td>Y</td>\n",
       "      <td>...</td>\n",
       "      <td>N</td>\n",
       "      <td>N</td>\n",
       "      <td>N</td>\n",
       "      <td>N</td>\n",
       "      <td>N</td>\n",
       "      <td>N</td>\n",
       "      <td>N</td>\n",
       "      <td>1</td>\n",
       "      <td>0.0</td>\n",
       "      <td>0.25</td>\n",
       "    </tr>\n",
       "  </tbody>\n",
       "</table>\n",
       "<p>5 rows × 66 columns</p>\n",
       "</div>"
      ],
      "text/plain": [
       "  Persistency_Flag  Gender       Race     Ethnicity   Region Age_Bucket  \\\n",
       "0       Persistent    Male  Caucasian  Not Hispanic     West        >75   \n",
       "1   Non-Persistent    Male      Asian  Not Hispanic     West      55-65   \n",
       "2   Non-Persistent  Female  Caucasian      Hispanic  Midwest      65-75   \n",
       "3   Non-Persistent  Female  Caucasian  Not Hispanic  Midwest        >75   \n",
       "4   Non-Persistent  Female  Caucasian  Not Hispanic  Midwest        >75   \n",
       "\n",
       "         Ntm_Speciality Ntm_Specialist_Flag      Ntm_Speciality_Bucket  \\\n",
       "0  GENERAL PRACTITIONER              Others  OB/GYN/Others/PCP/Unknown   \n",
       "1  GENERAL PRACTITIONER              Others  OB/GYN/Others/PCP/Unknown   \n",
       "2  GENERAL PRACTITIONER              Others  OB/GYN/Others/PCP/Unknown   \n",
       "3  GENERAL PRACTITIONER              Others  OB/GYN/Others/PCP/Unknown   \n",
       "4  GENERAL PRACTITIONER              Others  OB/GYN/Others/PCP/Unknown   \n",
       "\n",
       "  Gluco_Record_Prior_Ntm  ... Risk_Vitamin_D_Insufficiency  \\\n",
       "0                      N  ...                            N   \n",
       "1                      N  ...                            N   \n",
       "2                      N  ...                            N   \n",
       "3                      N  ...                            N   \n",
       "4                      Y  ...                            N   \n",
       "\n",
       "   Risk_Poor_Health_Frailty Risk_Excessive_Thinness  \\\n",
       "0                         N                       N   \n",
       "1                         N                       N   \n",
       "2                         N                       N   \n",
       "3                         N                       N   \n",
       "4                         N                       N   \n",
       "\n",
       "  Risk_Hysterectomy_Oophorectomy Risk_Estrogen_Deficiency Risk_Immobilization  \\\n",
       "0                              N                        N                   N   \n",
       "1                              N                        N                   N   \n",
       "2                              N                        N                   N   \n",
       "3                              N                        N                   N   \n",
       "4                              N                        N                   N   \n",
       "\n",
       "  Risk_Recurring_Falls Count_Of_Risks min_max_Dexa_Freq_During_Rx  \\\n",
       "0                    N              0                         0.0   \n",
       "1                    N              0                         0.0   \n",
       "2                    N              2                         0.0   \n",
       "3                    N              1                         0.0   \n",
       "4                    N              1                         0.0   \n",
       "\n",
       "  min_max_Count_Of_Risks  \n",
       "0                   0.00  \n",
       "1                   0.00  \n",
       "2                   0.50  \n",
       "3                   0.25  \n",
       "4                   0.25  \n",
       "\n",
       "[5 rows x 66 columns]"
      ]
     },
     "execution_count": 33,
     "metadata": {},
     "output_type": "execute_result"
    }
   ],
   "source": [
    "df = pd.read_csv(\"New_data.csv\")\n",
    "# First column in df\n",
    "# is just serial number, we can drop that column\n",
    "df.drop(columns=df.columns[0], \n",
    "        axis=1, \n",
    "        inplace=True)\n",
    "df.head()"
   ]
  },
  {
   "cell_type": "markdown",
   "metadata": {},
   "source": [
    "### Data Exploration"
   ]
  },
  {
   "cell_type": "markdown",
   "metadata": {},
   "source": [
    "<u>Basic information</u>"
   ]
  },
  {
   "cell_type": "code",
   "execution_count": 34,
   "metadata": {},
   "outputs": [
    {
     "name": "stdout",
     "output_type": "stream",
     "text": [
      "<class 'pandas.core.frame.DataFrame'>\n",
      "RangeIndex: 2942 entries, 0 to 2941\n",
      "Data columns (total 66 columns):\n",
      " #   Column                                                              Non-Null Count  Dtype  \n",
      "---  ------                                                              --------------  -----  \n",
      " 0   Persistency_Flag                                                    2942 non-null   object \n",
      " 1   Gender                                                              2942 non-null   object \n",
      " 2   Race                                                                2942 non-null   object \n",
      " 3   Ethnicity                                                           2942 non-null   object \n",
      " 4   Region                                                              2942 non-null   object \n",
      " 5   Age_Bucket                                                          2942 non-null   object \n",
      " 6   Ntm_Speciality                                                      2942 non-null   object \n",
      " 7   Ntm_Specialist_Flag                                                 2942 non-null   object \n",
      " 8   Ntm_Speciality_Bucket                                               2942 non-null   object \n",
      " 9   Gluco_Record_Prior_Ntm                                              2942 non-null   object \n",
      " 10  Gluco_Record_During_Rx                                              2942 non-null   object \n",
      " 11  Dexa_Freq_During_Rx                                                 2942 non-null   int64  \n",
      " 12  Dexa_During_Rx                                                      2942 non-null   object \n",
      " 13  Frag_Frac_Prior_Ntm                                                 2942 non-null   object \n",
      " 14  Frag_Frac_During_Rx                                                 2942 non-null   object \n",
      " 15  Risk_Segment_Prior_Ntm                                              2942 non-null   object \n",
      " 16  Tscore_Bucket_Prior_Ntm                                             2942 non-null   object \n",
      " 17  Adherent_Flag                                                       2942 non-null   object \n",
      " 18  Idn_Indicator                                                       2942 non-null   object \n",
      " 19  Injectable_Experience_During_Rx                                     2942 non-null   object \n",
      " 20  Comorb_Encounter_For_Screening_For_Malignant_Neoplasms              2942 non-null   object \n",
      " 21  Comorb_Encounter_For_Immunization                                   2942 non-null   object \n",
      " 22  Comorb_Encntr_For_General_Exam_W_O_Complaint,_Susp_Or_Reprtd_Dx     2942 non-null   object \n",
      " 23  Comorb_Vitamin_D_Deficiency                                         2942 non-null   object \n",
      " 24  Comorb_Other_Joint_Disorder_Not_Elsewhere_Classified                2942 non-null   object \n",
      " 25  Comorb_Encntr_For_Oth_Sp_Exam_W_O_Complaint_Suspected_Or_Reprtd_Dx  2942 non-null   object \n",
      " 26  Comorb_Long_Term_Current_Drug_Therapy                               2942 non-null   object \n",
      " 27  Comorb_Dorsalgia                                                    2942 non-null   object \n",
      " 28  Comorb_Personal_History_Of_Other_Diseases_And_Conditions            2942 non-null   object \n",
      " 29  Comorb_Other_Disorders_Of_Bone_Density_And_Structure                2942 non-null   object \n",
      " 30  Comorb_Disorders_of_lipoprotein_metabolism_and_other_lipidemias     2942 non-null   object \n",
      " 31  Comorb_Osteoporosis_without_current_pathological_fracture           2942 non-null   object \n",
      " 32  Comorb_Personal_history_of_malignant_neoplasm                       2942 non-null   object \n",
      " 33  Comorb_Gastro_esophageal_reflux_disease                             2942 non-null   object \n",
      " 34  Concom_Cholesterol_And_Triglyceride_Regulating_Preparations         2942 non-null   object \n",
      " 35  Concom_Narcotics                                                    2942 non-null   object \n",
      " 36  Concom_Systemic_Corticosteroids_Plain                               2942 non-null   object \n",
      " 37  Concom_Anti_Depressants_And_Mood_Stabilisers                        2942 non-null   object \n",
      " 38  Concom_Fluoroquinolones                                             2942 non-null   object \n",
      " 39  Concom_Cephalosporins                                               2942 non-null   object \n",
      " 40  Concom_Macrolides_And_Similar_Types                                 2942 non-null   object \n",
      " 41  Concom_Broad_Spectrum_Penicillins                                   2942 non-null   object \n",
      " 42  Concom_Anaesthetics_General                                         2942 non-null   object \n",
      " 43  Concom_Viral_Vaccines                                               2942 non-null   object \n",
      " 44  Risk_Type_1_Insulin_Dependent_Diabetes                              2942 non-null   object \n",
      " 45  Risk_Osteogenesis_Imperfecta                                        2942 non-null   object \n",
      " 46  Risk_Rheumatoid_Arthritis                                           2942 non-null   object \n",
      " 47  Risk_Untreated_Chronic_Hyperthyroidism                              2942 non-null   object \n",
      " 48  Risk_Untreated_Chronic_Hypogonadism                                 2942 non-null   object \n",
      " 49  Risk_Untreated_Early_Menopause                                      2942 non-null   object \n",
      " 50  Risk_Patient_Parent_Fractured_Their_Hip                             2942 non-null   object \n",
      " 51  Risk_Smoking_Tobacco                                                2942 non-null   object \n",
      " 52  Risk_Chronic_Malnutrition_Or_Malabsorption                          2942 non-null   object \n",
      " 53  Risk_Chronic_Liver_Disease                                          2942 non-null   object \n",
      " 54  Risk_Family_History_Of_Osteoporosis                                 2942 non-null   object \n",
      " 55  Risk_Low_Calcium_Intake                                             2942 non-null   object \n",
      " 56  Risk_Vitamin_D_Insufficiency                                        2942 non-null   object \n",
      " 57  Risk_Poor_Health_Frailty                                            2942 non-null   object \n",
      " 58  Risk_Excessive_Thinness                                             2942 non-null   object \n",
      " 59  Risk_Hysterectomy_Oophorectomy                                      2942 non-null   object \n",
      " 60  Risk_Estrogen_Deficiency                                            2942 non-null   object \n",
      " 61  Risk_Immobilization                                                 2942 non-null   object \n",
      " 62  Risk_Recurring_Falls                                                2942 non-null   object \n",
      " 63  Count_Of_Risks                                                      2942 non-null   int64  \n",
      " 64  min_max_Dexa_Freq_During_Rx                                         2942 non-null   float64\n",
      " 65  min_max_Count_Of_Risks                                              2942 non-null   float64\n",
      "dtypes: float64(2), int64(2), object(62)\n",
      "memory usage: 1.5+ MB\n"
     ]
    }
   ],
   "source": [
    "df.info()"
   ]
  },
  {
   "cell_type": "markdown",
   "metadata": {},
   "source": [
    "We have 2942 rows and 65 columns in our new data."
   ]
  },
  {
   "cell_type": "code",
   "execution_count": 35,
   "metadata": {},
   "outputs": [
    {
     "data": {
      "text/html": [
       "<div>\n",
       "<style scoped>\n",
       "    .dataframe tbody tr th:only-of-type {\n",
       "        vertical-align: middle;\n",
       "    }\n",
       "\n",
       "    .dataframe tbody tr th {\n",
       "        vertical-align: top;\n",
       "    }\n",
       "\n",
       "    .dataframe thead th {\n",
       "        text-align: right;\n",
       "    }\n",
       "</style>\n",
       "<table border=\"1\" class=\"dataframe\">\n",
       "  <thead>\n",
       "    <tr style=\"text-align: right;\">\n",
       "      <th></th>\n",
       "      <th>Dexa_Freq_During_Rx</th>\n",
       "      <th>Count_Of_Risks</th>\n",
       "      <th>min_max_Dexa_Freq_During_Rx</th>\n",
       "      <th>min_max_Count_Of_Risks</th>\n",
       "    </tr>\n",
       "  </thead>\n",
       "  <tbody>\n",
       "    <tr>\n",
       "      <th>count</th>\n",
       "      <td>2942.000000</td>\n",
       "      <td>2942.000000</td>\n",
       "      <td>2942.000000</td>\n",
       "      <td>2942.000000</td>\n",
       "    </tr>\n",
       "    <tr>\n",
       "      <th>mean</th>\n",
       "      <td>0.783141</td>\n",
       "      <td>1.198844</td>\n",
       "      <td>0.111877</td>\n",
       "      <td>0.299711</td>\n",
       "    </tr>\n",
       "    <tr>\n",
       "      <th>std</th>\n",
       "      <td>1.920172</td>\n",
       "      <td>1.043214</td>\n",
       "      <td>0.274310</td>\n",
       "      <td>0.260803</td>\n",
       "    </tr>\n",
       "    <tr>\n",
       "      <th>min</th>\n",
       "      <td>0.000000</td>\n",
       "      <td>0.000000</td>\n",
       "      <td>0.000000</td>\n",
       "      <td>0.000000</td>\n",
       "    </tr>\n",
       "    <tr>\n",
       "      <th>25%</th>\n",
       "      <td>0.000000</td>\n",
       "      <td>0.000000</td>\n",
       "      <td>0.000000</td>\n",
       "      <td>0.000000</td>\n",
       "    </tr>\n",
       "    <tr>\n",
       "      <th>50%</th>\n",
       "      <td>0.000000</td>\n",
       "      <td>1.000000</td>\n",
       "      <td>0.000000</td>\n",
       "      <td>0.250000</td>\n",
       "    </tr>\n",
       "    <tr>\n",
       "      <th>75%</th>\n",
       "      <td>0.000000</td>\n",
       "      <td>2.000000</td>\n",
       "      <td>0.000000</td>\n",
       "      <td>0.500000</td>\n",
       "    </tr>\n",
       "    <tr>\n",
       "      <th>max</th>\n",
       "      <td>7.000000</td>\n",
       "      <td>4.000000</td>\n",
       "      <td>1.000000</td>\n",
       "      <td>1.000000</td>\n",
       "    </tr>\n",
       "  </tbody>\n",
       "</table>\n",
       "</div>"
      ],
      "text/plain": [
       "       Dexa_Freq_During_Rx  Count_Of_Risks  min_max_Dexa_Freq_During_Rx  \\\n",
       "count          2942.000000     2942.000000                  2942.000000   \n",
       "mean              0.783141        1.198844                     0.111877   \n",
       "std               1.920172        1.043214                     0.274310   \n",
       "min               0.000000        0.000000                     0.000000   \n",
       "25%               0.000000        0.000000                     0.000000   \n",
       "50%               0.000000        1.000000                     0.000000   \n",
       "75%               0.000000        2.000000                     0.000000   \n",
       "max               7.000000        4.000000                     1.000000   \n",
       "\n",
       "       min_max_Count_Of_Risks  \n",
       "count             2942.000000  \n",
       "mean                 0.299711  \n",
       "std                  0.260803  \n",
       "min                  0.000000  \n",
       "25%                  0.000000  \n",
       "50%                  0.250000  \n",
       "75%                  0.500000  \n",
       "max                  1.000000  "
      ]
     },
     "execution_count": 35,
     "metadata": {},
     "output_type": "execute_result"
    }
   ],
   "source": [
    "df.describe()"
   ]
  },
  {
   "cell_type": "code",
   "execution_count": 36,
   "metadata": {},
   "outputs": [
    {
     "data": {
      "text/html": [
       "<div>\n",
       "<style scoped>\n",
       "    .dataframe tbody tr th:only-of-type {\n",
       "        vertical-align: middle;\n",
       "    }\n",
       "\n",
       "    .dataframe tbody tr th {\n",
       "        vertical-align: top;\n",
       "    }\n",
       "\n",
       "    .dataframe thead th {\n",
       "        text-align: right;\n",
       "    }\n",
       "</style>\n",
       "<table border=\"1\" class=\"dataframe\">\n",
       "  <thead>\n",
       "    <tr style=\"text-align: right;\">\n",
       "      <th></th>\n",
       "      <th>count</th>\n",
       "      <th>unique</th>\n",
       "      <th>top</th>\n",
       "      <th>freq</th>\n",
       "      <th>mean</th>\n",
       "      <th>std</th>\n",
       "      <th>min</th>\n",
       "      <th>25%</th>\n",
       "      <th>50%</th>\n",
       "      <th>75%</th>\n",
       "      <th>max</th>\n",
       "    </tr>\n",
       "  </thead>\n",
       "  <tbody>\n",
       "    <tr>\n",
       "      <th>Persistency_Flag</th>\n",
       "      <td>2942</td>\n",
       "      <td>2</td>\n",
       "      <td>Non-Persistent</td>\n",
       "      <td>2047</td>\n",
       "      <td>NaN</td>\n",
       "      <td>NaN</td>\n",
       "      <td>NaN</td>\n",
       "      <td>NaN</td>\n",
       "      <td>NaN</td>\n",
       "      <td>NaN</td>\n",
       "      <td>NaN</td>\n",
       "    </tr>\n",
       "    <tr>\n",
       "      <th>Gender</th>\n",
       "      <td>2942</td>\n",
       "      <td>2</td>\n",
       "      <td>Female</td>\n",
       "      <td>2769</td>\n",
       "      <td>NaN</td>\n",
       "      <td>NaN</td>\n",
       "      <td>NaN</td>\n",
       "      <td>NaN</td>\n",
       "      <td>NaN</td>\n",
       "      <td>NaN</td>\n",
       "      <td>NaN</td>\n",
       "    </tr>\n",
       "    <tr>\n",
       "      <th>Race</th>\n",
       "      <td>2942</td>\n",
       "      <td>3</td>\n",
       "      <td>Caucasian</td>\n",
       "      <td>2781</td>\n",
       "      <td>NaN</td>\n",
       "      <td>NaN</td>\n",
       "      <td>NaN</td>\n",
       "      <td>NaN</td>\n",
       "      <td>NaN</td>\n",
       "      <td>NaN</td>\n",
       "      <td>NaN</td>\n",
       "    </tr>\n",
       "    <tr>\n",
       "      <th>Ethnicity</th>\n",
       "      <td>2942</td>\n",
       "      <td>2</td>\n",
       "      <td>Not Hispanic</td>\n",
       "      <td>2861</td>\n",
       "      <td>NaN</td>\n",
       "      <td>NaN</td>\n",
       "      <td>NaN</td>\n",
       "      <td>NaN</td>\n",
       "      <td>NaN</td>\n",
       "      <td>NaN</td>\n",
       "      <td>NaN</td>\n",
       "    </tr>\n",
       "    <tr>\n",
       "      <th>Region</th>\n",
       "      <td>2942</td>\n",
       "      <td>5</td>\n",
       "      <td>Midwest</td>\n",
       "      <td>1210</td>\n",
       "      <td>NaN</td>\n",
       "      <td>NaN</td>\n",
       "      <td>NaN</td>\n",
       "      <td>NaN</td>\n",
       "      <td>NaN</td>\n",
       "      <td>NaN</td>\n",
       "      <td>NaN</td>\n",
       "    </tr>\n",
       "    <tr>\n",
       "      <th>...</th>\n",
       "      <td>...</td>\n",
       "      <td>...</td>\n",
       "      <td>...</td>\n",
       "      <td>...</td>\n",
       "      <td>...</td>\n",
       "      <td>...</td>\n",
       "      <td>...</td>\n",
       "      <td>...</td>\n",
       "      <td>...</td>\n",
       "      <td>...</td>\n",
       "      <td>...</td>\n",
       "    </tr>\n",
       "    <tr>\n",
       "      <th>Risk_Immobilization</th>\n",
       "      <td>2942</td>\n",
       "      <td>2</td>\n",
       "      <td>N</td>\n",
       "      <td>2930</td>\n",
       "      <td>NaN</td>\n",
       "      <td>NaN</td>\n",
       "      <td>NaN</td>\n",
       "      <td>NaN</td>\n",
       "      <td>NaN</td>\n",
       "      <td>NaN</td>\n",
       "      <td>NaN</td>\n",
       "    </tr>\n",
       "    <tr>\n",
       "      <th>Risk_Recurring_Falls</th>\n",
       "      <td>2942</td>\n",
       "      <td>2</td>\n",
       "      <td>N</td>\n",
       "      <td>2887</td>\n",
       "      <td>NaN</td>\n",
       "      <td>NaN</td>\n",
       "      <td>NaN</td>\n",
       "      <td>NaN</td>\n",
       "      <td>NaN</td>\n",
       "      <td>NaN</td>\n",
       "      <td>NaN</td>\n",
       "    </tr>\n",
       "    <tr>\n",
       "      <th>Count_Of_Risks</th>\n",
       "      <td>2942.0</td>\n",
       "      <td>NaN</td>\n",
       "      <td>NaN</td>\n",
       "      <td>NaN</td>\n",
       "      <td>1.198844</td>\n",
       "      <td>1.043214</td>\n",
       "      <td>0.0</td>\n",
       "      <td>0.0</td>\n",
       "      <td>1.0</td>\n",
       "      <td>2.0</td>\n",
       "      <td>4.0</td>\n",
       "    </tr>\n",
       "    <tr>\n",
       "      <th>min_max_Dexa_Freq_During_Rx</th>\n",
       "      <td>2942.0</td>\n",
       "      <td>NaN</td>\n",
       "      <td>NaN</td>\n",
       "      <td>NaN</td>\n",
       "      <td>0.111877</td>\n",
       "      <td>0.27431</td>\n",
       "      <td>0.0</td>\n",
       "      <td>0.0</td>\n",
       "      <td>0.0</td>\n",
       "      <td>0.0</td>\n",
       "      <td>1.0</td>\n",
       "    </tr>\n",
       "    <tr>\n",
       "      <th>min_max_Count_Of_Risks</th>\n",
       "      <td>2942.0</td>\n",
       "      <td>NaN</td>\n",
       "      <td>NaN</td>\n",
       "      <td>NaN</td>\n",
       "      <td>0.299711</td>\n",
       "      <td>0.260803</td>\n",
       "      <td>0.0</td>\n",
       "      <td>0.0</td>\n",
       "      <td>0.25</td>\n",
       "      <td>0.5</td>\n",
       "      <td>1.0</td>\n",
       "    </tr>\n",
       "  </tbody>\n",
       "</table>\n",
       "<p>66 rows × 11 columns</p>\n",
       "</div>"
      ],
      "text/plain": [
       "                              count unique             top  freq      mean  \\\n",
       "Persistency_Flag               2942      2  Non-Persistent  2047       NaN   \n",
       "Gender                         2942      2          Female  2769       NaN   \n",
       "Race                           2942      3       Caucasian  2781       NaN   \n",
       "Ethnicity                      2942      2    Not Hispanic  2861       NaN   \n",
       "Region                         2942      5         Midwest  1210       NaN   \n",
       "...                             ...    ...             ...   ...       ...   \n",
       "Risk_Immobilization            2942      2               N  2930       NaN   \n",
       "Risk_Recurring_Falls           2942      2               N  2887       NaN   \n",
       "Count_Of_Risks               2942.0    NaN             NaN   NaN  1.198844   \n",
       "min_max_Dexa_Freq_During_Rx  2942.0    NaN             NaN   NaN  0.111877   \n",
       "min_max_Count_Of_Risks       2942.0    NaN             NaN   NaN  0.299711   \n",
       "\n",
       "                                  std  min  25%   50%  75%  max  \n",
       "Persistency_Flag                  NaN  NaN  NaN   NaN  NaN  NaN  \n",
       "Gender                            NaN  NaN  NaN   NaN  NaN  NaN  \n",
       "Race                              NaN  NaN  NaN   NaN  NaN  NaN  \n",
       "Ethnicity                         NaN  NaN  NaN   NaN  NaN  NaN  \n",
       "Region                            NaN  NaN  NaN   NaN  NaN  NaN  \n",
       "...                               ...  ...  ...   ...  ...  ...  \n",
       "Risk_Immobilization               NaN  NaN  NaN   NaN  NaN  NaN  \n",
       "Risk_Recurring_Falls              NaN  NaN  NaN   NaN  NaN  NaN  \n",
       "Count_Of_Risks               1.043214  0.0  0.0   1.0  2.0  4.0  \n",
       "min_max_Dexa_Freq_During_Rx   0.27431  0.0  0.0   0.0  0.0  1.0  \n",
       "min_max_Count_Of_Risks       0.260803  0.0  0.0  0.25  0.5  1.0  \n",
       "\n",
       "[66 rows x 11 columns]"
      ]
     },
     "execution_count": 36,
     "metadata": {},
     "output_type": "execute_result"
    }
   ],
   "source": [
    "df.describe(include=\"all\").T"
   ]
  },
  {
   "cell_type": "code",
   "execution_count": 37,
   "metadata": {},
   "outputs": [
    {
     "name": "stderr",
     "output_type": "stream",
     "text": [
      "C:\\Users\\soniy\\AppData\\Local\\Temp\\ipykernel_5216\\3687683688.py:1: DeprecationWarning: `np.object` is a deprecated alias for the builtin `object`. To silence this warning, use `object` by itself. Doing this will not modify any behavior and is safe. \n",
      "Deprecated in NumPy 1.20; for more details and guidance: https://numpy.org/devdocs/release/1.20.0-notes.html#deprecations\n",
      "  df.describe(include=[np.object, pd.Categorical]).T\n"
     ]
    },
    {
     "data": {
      "text/html": [
       "<div>\n",
       "<style scoped>\n",
       "    .dataframe tbody tr th:only-of-type {\n",
       "        vertical-align: middle;\n",
       "    }\n",
       "\n",
       "    .dataframe tbody tr th {\n",
       "        vertical-align: top;\n",
       "    }\n",
       "\n",
       "    .dataframe thead th {\n",
       "        text-align: right;\n",
       "    }\n",
       "</style>\n",
       "<table border=\"1\" class=\"dataframe\">\n",
       "  <thead>\n",
       "    <tr style=\"text-align: right;\">\n",
       "      <th></th>\n",
       "      <th>count</th>\n",
       "      <th>unique</th>\n",
       "      <th>top</th>\n",
       "      <th>freq</th>\n",
       "    </tr>\n",
       "  </thead>\n",
       "  <tbody>\n",
       "    <tr>\n",
       "      <th>Persistency_Flag</th>\n",
       "      <td>2942</td>\n",
       "      <td>2</td>\n",
       "      <td>Non-Persistent</td>\n",
       "      <td>2047</td>\n",
       "    </tr>\n",
       "    <tr>\n",
       "      <th>Gender</th>\n",
       "      <td>2942</td>\n",
       "      <td>2</td>\n",
       "      <td>Female</td>\n",
       "      <td>2769</td>\n",
       "    </tr>\n",
       "    <tr>\n",
       "      <th>Race</th>\n",
       "      <td>2942</td>\n",
       "      <td>3</td>\n",
       "      <td>Caucasian</td>\n",
       "      <td>2781</td>\n",
       "    </tr>\n",
       "    <tr>\n",
       "      <th>Ethnicity</th>\n",
       "      <td>2942</td>\n",
       "      <td>2</td>\n",
       "      <td>Not Hispanic</td>\n",
       "      <td>2861</td>\n",
       "    </tr>\n",
       "    <tr>\n",
       "      <th>Region</th>\n",
       "      <td>2942</td>\n",
       "      <td>5</td>\n",
       "      <td>Midwest</td>\n",
       "      <td>1210</td>\n",
       "    </tr>\n",
       "    <tr>\n",
       "      <th>...</th>\n",
       "      <td>...</td>\n",
       "      <td>...</td>\n",
       "      <td>...</td>\n",
       "      <td>...</td>\n",
       "    </tr>\n",
       "    <tr>\n",
       "      <th>Risk_Excessive_Thinness</th>\n",
       "      <td>2942</td>\n",
       "      <td>2</td>\n",
       "      <td>N</td>\n",
       "      <td>2881</td>\n",
       "    </tr>\n",
       "    <tr>\n",
       "      <th>Risk_Hysterectomy_Oophorectomy</th>\n",
       "      <td>2942</td>\n",
       "      <td>2</td>\n",
       "      <td>N</td>\n",
       "      <td>2897</td>\n",
       "    </tr>\n",
       "    <tr>\n",
       "      <th>Risk_Estrogen_Deficiency</th>\n",
       "      <td>2942</td>\n",
       "      <td>2</td>\n",
       "      <td>N</td>\n",
       "      <td>2933</td>\n",
       "    </tr>\n",
       "    <tr>\n",
       "      <th>Risk_Immobilization</th>\n",
       "      <td>2942</td>\n",
       "      <td>2</td>\n",
       "      <td>N</td>\n",
       "      <td>2930</td>\n",
       "    </tr>\n",
       "    <tr>\n",
       "      <th>Risk_Recurring_Falls</th>\n",
       "      <td>2942</td>\n",
       "      <td>2</td>\n",
       "      <td>N</td>\n",
       "      <td>2887</td>\n",
       "    </tr>\n",
       "  </tbody>\n",
       "</table>\n",
       "<p>62 rows × 4 columns</p>\n",
       "</div>"
      ],
      "text/plain": [
       "                               count unique             top  freq\n",
       "Persistency_Flag                2942      2  Non-Persistent  2047\n",
       "Gender                          2942      2          Female  2769\n",
       "Race                            2942      3       Caucasian  2781\n",
       "Ethnicity                       2942      2    Not Hispanic  2861\n",
       "Region                          2942      5         Midwest  1210\n",
       "...                              ...    ...             ...   ...\n",
       "Risk_Excessive_Thinness         2942      2               N  2881\n",
       "Risk_Hysterectomy_Oophorectomy  2942      2               N  2897\n",
       "Risk_Estrogen_Deficiency        2942      2               N  2933\n",
       "Risk_Immobilization             2942      2               N  2930\n",
       "Risk_Recurring_Falls            2942      2               N  2887\n",
       "\n",
       "[62 rows x 4 columns]"
      ]
     },
     "execution_count": 37,
     "metadata": {},
     "output_type": "execute_result"
    }
   ],
   "source": [
    "df.describe(include=[np.object, pd.Categorical]).T"
   ]
  },
  {
   "cell_type": "markdown",
   "metadata": {},
   "source": [
    "<u>How many unique values each variable has?</u>"
   ]
  },
  {
   "cell_type": "code",
   "execution_count": 38,
   "metadata": {},
   "outputs": [
    {
     "data": {
      "text/plain": [
       "Ntm_Speciality                                                     19\n",
       "Dexa_Freq_During_Rx                                                 8\n",
       "min_max_Dexa_Freq_During_Rx                                         8\n",
       "Count_Of_Risks                                                      5\n",
       "min_max_Count_Of_Risks                                              5\n",
       "                                                                   ..\n",
       "Comorb_Disorders_of_lipoprotein_metabolism_and_other_lipidemias     2\n",
       "Comorb_Osteoporosis_without_current_pathological_fracture           2\n",
       "Comorb_Personal_history_of_malignant_neoplasm                       2\n",
       "Gender                                                              2\n",
       "Comorb_Gastro_esophageal_reflux_disease                             2\n",
       "Length: 66, dtype: int64"
      ]
     },
     "execution_count": 38,
     "metadata": {},
     "output_type": "execute_result"
    }
   ],
   "source": [
    "df.nunique().sort_values(ascending = False)"
   ]
  },
  {
   "cell_type": "markdown",
   "metadata": {},
   "source": [
    "Now, let us have a look on our target variable, which is the 'Persistency_Flag'.  \n",
    "\n",
    "  \n",
    "\n",
    "<u>How many value counts are there for the target variable?</u>"
   ]
  },
  {
   "cell_type": "code",
   "execution_count": 39,
   "metadata": {},
   "outputs": [
    {
     "data": {
      "text/plain": [
       "Non-Persistent    2047\n",
       "Persistent         895\n",
       "Name: Persistency_Flag, dtype: int64"
      ]
     },
     "execution_count": 39,
     "metadata": {},
     "output_type": "execute_result"
    }
   ],
   "source": [
    "df['Persistency_Flag'].value_counts()"
   ]
  },
  {
   "cell_type": "code",
   "execution_count": 40,
   "metadata": {},
   "outputs": [
    {
     "data": {
      "image/png": "[encoded data removed]",
      "text/plain": [
       "<Figure size 432x288 with 1 Axes>"
      ]
     },
     "metadata": {},
     "output_type": "display_data"
    }
   ],
   "source": [
    "y = df['Persistency_Flag'].value_counts()\n",
    "plt.figure(facecolor='white')\n",
    "plt.pie(y, labels = [\"Non-Persistent\", \"Persistent\"], explode=[0.2,0], autopct='%1.1f%%', shadow=True)\n",
    "plt.legend()\n",
    "plt.show() "
   ]
  },
  {
   "cell_type": "code",
   "execution_count": 41,
   "metadata": {},
   "outputs": [
    {
     "data": {
      "text/plain": [
       "Gender  Persistency_Flag\n",
       "Female  Non-Persistent      1936\n",
       "        Persistent           833\n",
       "Male    Non-Persistent       111\n",
       "        Persistent            62\n",
       "Name: Persistency_Flag, dtype: int64"
      ]
     },
     "execution_count": 41,
     "metadata": {},
     "output_type": "execute_result"
    }
   ],
   "source": [
    "df.groupby([\"Gender\",'Persistency_Flag']).Persistency_Flag.count()\n"
   ]
  },
  {
   "cell_type": "markdown",
   "metadata": {},
   "source": [
    "### Demographics Analysis"
   ]
  },
  {
   "cell_type": "code",
   "execution_count": 42,
   "metadata": {},
   "outputs": [
    {
     "name": "stderr",
     "output_type": "stream",
     "text": [
      "c:\\Users\\soniy\\anaconda3\\lib\\site-packages\\seaborn\\_decorators.py:36: FutureWarning: Pass the following variable as a keyword arg: x. From version 0.12, the only valid positional argument will be `data`, and passing other arguments without an explicit keyword will result in an error or misinterpretation.\n",
      "  warnings.warn(\n"
     ]
    },
    {
     "data": {
      "image/png": "[encoded data removed]",
      "text/plain": [
       "<Figure size 432x288 with 1 Axes>"
      ]
     },
     "metadata": {
      "needs_background": "light"
     },
     "output_type": "display_data"
    }
   ],
   "source": [
    "# Gender\n",
    "sns.countplot(df['Gender'], hue=df['Persistency_Flag'])\n",
    "plt.title(\"Persistency by Gender\")\n",
    "plt.legend()\n",
    "plt.show()"
   ]
  },
  {
   "cell_type": "code",
   "execution_count": 60,
   "metadata": {},
   "outputs": [
    {
     "name": "stderr",
     "output_type": "stream",
     "text": [
      "c:\\Users\\soniy\\anaconda3\\lib\\site-packages\\seaborn\\_decorators.py:36: FutureWarning: Pass the following variable as a keyword arg: x. From version 0.12, the only valid positional argument will be `data`, and passing other arguments without an explicit keyword will result in an error or misinterpretation.\n",
      "  warnings.warn(\n"
     ]
    },
    {
     "data": {
      "image/png": "[encoded data removed]",
      "text/plain": [
       "<Figure size 432x288 with 1 Axes>"
      ]
     },
     "metadata": {
      "needs_background": "light"
     },
     "output_type": "display_data"
    }
   ],
   "source": [
    "# Age\n",
    "palette = ['tab:blue', 'tab:green']\n",
    "sns.countplot(df['Age_Bucket'], hue=df['Persistency_Flag'], palette=palette)\n",
    "plt.title(\"Persistency by Age Groups\")\n",
    "plt.legend()\n",
    "plt.show()"
   ]
  },
  {
   "cell_type": "code",
   "execution_count": 62,
   "metadata": {},
   "outputs": [
    {
     "name": "stderr",
     "output_type": "stream",
     "text": [
      "c:\\Users\\soniy\\anaconda3\\lib\\site-packages\\seaborn\\_decorators.py:36: FutureWarning: Pass the following variable as a keyword arg: x. From version 0.12, the only valid positional argument will be `data`, and passing other arguments without an explicit keyword will result in an error or misinterpretation.\n",
      "  warnings.warn(\n"
     ]
    },
    {
     "data": {
      "image/png": "[encoded data removed]",
      "text/plain": [
       "<Figure size 432x288 with 1 Axes>"
      ]
     },
     "metadata": {
      "needs_background": "light"
     },
     "output_type": "display_data"
    }
   ],
   "source": [
    "# Race\n",
    "palette = ['tab:red', 'tab:blue']\n",
    "sns.countplot(df['Race'], hue=df['Persistency_Flag'], palette=palette)\n",
    "plt.title(\"Persistency by Race\")\n",
    "plt.legend()\n",
    "plt.show()"
   ]
  },
  {
   "cell_type": "code",
   "execution_count": 65,
   "metadata": {},
   "outputs": [
    {
     "name": "stderr",
     "output_type": "stream",
     "text": [
      "c:\\Users\\soniy\\anaconda3\\lib\\site-packages\\seaborn\\_decorators.py:36: FutureWarning: Pass the following variable as a keyword arg: x. From version 0.12, the only valid positional argument will be `data`, and passing other arguments without an explicit keyword will result in an error or misinterpretation.\n",
      "  warnings.warn(\n"
     ]
    },
    {
     "data": {
      "image/png": "[encoded data removed]",
      "text/plain": [
       "<Figure size 432x288 with 1 Axes>"
      ]
     },
     "metadata": {
      "needs_background": "light"
     },
     "output_type": "display_data"
    }
   ],
   "source": [
    "# Region\n",
    "palette = ['tab:orange', 'tab:green']\n",
    "sns.countplot(df['Region'], hue=df['Persistency_Flag'], palette=palette)\n",
    "plt.title(\"Persistency by Region\")\n",
    "plt.legend()\n",
    "plt.show()"
   ]
  },
  {
   "cell_type": "code",
   "execution_count": 69,
   "metadata": {},
   "outputs": [
    {
     "name": "stderr",
     "output_type": "stream",
     "text": [
      "c:\\Users\\soniy\\anaconda3\\lib\\site-packages\\seaborn\\_decorators.py:36: FutureWarning: Pass the following variable as a keyword arg: x. From version 0.12, the only valid positional argument will be `data`, and passing other arguments without an explicit keyword will result in an error or misinterpretation.\n",
      "  warnings.warn(\n"
     ]
    },
    {
     "data": {
      "image/png": "[encoded data removed]",
      "text/plain": [
       "<Figure size 432x288 with 1 Axes>"
      ]
     },
     "metadata": {
      "needs_background": "light"
     },
     "output_type": "display_data"
    }
   ],
   "source": [
    "# Ethnicity\n",
    "palette = ['tab:pink', 'tab:green']\n",
    "sns.countplot(df['Ethnicity'], hue=df['Persistency_Flag'], palette=palette)\n",
    "plt.title(\"Persistency by Ethnicity\")\n",
    "plt.legend()\n",
    "plt.show()"
   ]
  },
  {
   "cell_type": "markdown",
   "metadata": {},
   "source": [
    "### Clinical Factors"
   ]
  },
  {
   "cell_type": "code",
   "execution_count": 102,
   "metadata": {},
   "outputs": [
    {
     "data": {
      "image/png": "[encoded data removed]",
      "text/plain": [
       "<Figure size 1296x864 with 6 Axes>"
      ]
     },
     "metadata": {
      "needs_background": "light"
     },
     "output_type": "display_data"
    }
   ],
   "source": [
    "# Count plots of each factors variable\n",
    "factors = [\"Gluco_Record_Prior_Ntm\", \"Gluco_Record_During_Rx\", \"Tscore_Bucket_Prior_Ntm\", \"Risk_Segment_Prior_Ntm\", \"Frag_Frac_Prior_Ntm\", \"Frag_Frac_During_Rx\"]\n",
    "var_num = len(factors)\n",
    "col_num = 3\n",
    "row_num = math.ceil(var_num/col_num)\n",
    "\n",
    "f, axes = plt.subplots(ncols=col_num, nrows=row_num, figsize=(18,12))\n",
    "i = 0\n",
    "j = 0\n",
    "for col in factors:\n",
    "    sns.countplot(y=df[col], ax=axes[j][i]).set(title=col)\n",
    "\n",
    "    axes[j][i].tick_params(labelrotation=30)\n",
    "    i += 1\n",
    "    if i >= col_num:\n",
    "        i = 0\n",
    "        j += 1"
   ]
  },
  {
   "cell_type": "code",
   "execution_count": 72,
   "metadata": {},
   "outputs": [
    {
     "data": {
      "image/png": "[encoded data removed]",
      "text/plain": [
       "<Figure size 360x360 with 1 Axes>"
      ]
     },
     "metadata": {},
     "output_type": "display_data"
    }
   ],
   "source": [
    "# Fragility Fracture prior to NTM\n",
    "counts = df.groupby([\"Frag_Frac_Prior_Ntm\"]).Frag_Frac_Prior_Ntm.count()\n",
    "plt.figure(facecolor='white')\n",
    "\n",
    "counts.plot.pie(y=counts.index,autopct='%1.0f%%',startangle=90,ylabel=\"\",labels=[\"No\",\"Yes\"], title=\"Fragility Fracture Prior to Ntm\",figsize=(5,5))\n",
    "plt.axis('equal')\n",
    "plt.tight_layout()\n",
    "plt.show()"
   ]
  },
  {
   "cell_type": "markdown",
   "metadata": {},
   "source": [
    "### Disease/Treatment Factors"
   ]
  },
  {
   "cell_type": "code",
   "execution_count": 51,
   "metadata": {},
   "outputs": [
    {
     "data": {
      "text/plain": [
       "Count_Of_Risks                                                        1.198844\n",
       "Comorb_Disorders_of_lipoprotein_metabolism_and_other_lipidemias       0.495241\n",
       "Risk_Vitamin_D_Insufficiency                                          0.470428\n",
       "Comorb_Encounter_For_Screening_For_Malignant_Neoplasms                0.400068\n",
       "Comorb_Encounter_For_Immunization                                     0.398029\n",
       "Comorb_Encntr_For_General_Exam_W_O_Complaint,_Susp_Or_Reprtd_Dx       0.357240\n",
       "Concom_Narcotics                                                      0.340925\n",
       "Concom_Cholesterol_And_Triglyceride_Regulating_Preparations           0.336166\n",
       "Comorb_Vitamin_D_Deficiency                                           0.301496\n",
       "Concom_Systemic_Corticosteroids_Plain                                 0.271584\n",
       "Concom_Anti_Depressants_And_Mood_Stabilisers                          0.271244\n",
       "Comorb_Other_Joint_Disorder_Not_Elsewhere_Classified                  0.270564\n",
       "Comorb_Osteoporosis_without_current_pathological_fracture             0.250510\n",
       "Comorb_Long_Term_Current_Drug_Therapy                                 0.210061\n",
       "Comorb_Dorsalgia                                                      0.200544\n",
       "Comorb_Encntr_For_Oth_Sp_Exam_W_O_Complaint_Suspected_Or_Reprtd_Dx    0.195445\n",
       "Risk_Smoking_Tobacco                                                  0.187627\n",
       "Concom_Fluoroquinolones                                               0.173351\n",
       "Comorb_Personal_history_of_malignant_neoplasm                         0.172672\n",
       "Comorb_Personal_History_Of_Other_Diseases_And_Conditions              0.171312\n",
       "Comorb_Gastro_esophageal_reflux_disease                               0.164854\n",
       "Concom_Cephalosporins                                                 0.159755\n",
       "Concom_Macrolides_And_Similar_Types                                   0.145479\n",
       "Comorb_Other_Disorders_Of_Bone_Density_And_Structure                  0.131883\n",
       "Concom_Anaesthetics_General                                           0.130184\n",
       "Risk_Chronic_Malnutrition_Or_Malabsorption                            0.128144\n",
       "Concom_Broad_Spectrum_Penicillins                                     0.116247\n",
       "min_max_Dexa_Freq_During_Rx                                           0.111877\n",
       "Risk_Family_History_Of_Osteoporosis                                   0.099252\n",
       "Concom_Viral_Vaccines                                                 0.094154\n",
       "Risk_Patient_Parent_Fractured_Their_Hip                               0.068321\n",
       "Risk_Poor_Health_Frailty                                              0.052345\n",
       "Risk_Type_1_Insulin_Dependent_Diabetes                                0.040109\n",
       "Risk_Rheumatoid_Arthritis                                             0.036710\n",
       "Risk_Untreated_Chronic_Hypogonadism                                   0.031611\n",
       "Risk_Excessive_Thinness                                               0.020734\n",
       "Risk_Recurring_Falls                                                  0.018695\n",
       "Risk_Hysterectomy_Oophorectomy                                        0.015296\n",
       "Risk_Low_Calcium_Intake                                               0.012237\n",
       "Risk_Chronic_Liver_Disease                                            0.004759\n",
       "Risk_Immobilization                                                   0.004079\n",
       "Risk_Untreated_Early_Menopause                                        0.003739\n",
       "Risk_Estrogen_Deficiency                                              0.003059\n",
       "Risk_Osteogenesis_Imperfecta                                          0.001020\n",
       "Risk_Untreated_Chronic_Hyperthyroidism                                0.000680\n",
       "dtype: float64"
      ]
     },
     "execution_count": 51,
     "metadata": {},
     "output_type": "execute_result"
    }
   ],
   "source": [
    "subset = df.iloc[:,20:]\n",
    "subset = subset.replace(\"Y\", 1, regex=True)\n",
    "subset = subset.replace(\"N\", 0, regex=True)\n",
    "subset.iloc[:,:-1].sum().sort_values(ascending=False) / subset.shape[0]"
   ]
  },
  {
   "cell_type": "markdown",
   "metadata": {},
   "source": [
    "- NTM-Comorbidity: Comorb_Disorders_of_lipoprotein_metabolism_and_other_lipidemias has highest influence. \n",
    "- NTM-Risk Factors: Risk_Vitamin_D_Insufficiency has highest influence. \n",
    "- NTM-Concomitancy: Concom_Narcotics has highest influence. "
   ]
  },
  {
   "cell_type": "code",
   "execution_count": 112,
   "metadata": {},
   "outputs": [
    {
     "data": {
      "text/html": [
       "<div>\n",
       "<style scoped>\n",
       "    .dataframe tbody tr th:only-of-type {\n",
       "        vertical-align: middle;\n",
       "    }\n",
       "\n",
       "    .dataframe tbody tr th {\n",
       "        vertical-align: top;\n",
       "    }\n",
       "\n",
       "    .dataframe thead th {\n",
       "        text-align: right;\n",
       "    }\n",
       "</style>\n",
       "<table border=\"1\" class=\"dataframe\">\n",
       "  <thead>\n",
       "    <tr style=\"text-align: right;\">\n",
       "      <th></th>\n",
       "      <th>Concom_Cholesterol_And_Triglyceride_Regulating_Preparations</th>\n",
       "      <th>Concom_Narcotics</th>\n",
       "      <th>Concom_Systemic_Corticosteroids_Plain</th>\n",
       "      <th>Concom_Anti_Depressants_And_Mood_Stabilisers</th>\n",
       "      <th>Concom_Fluoroquinolones</th>\n",
       "      <th>Concom_Cephalosporins</th>\n",
       "      <th>Concom_Macrolides_And_Similar_Types</th>\n",
       "      <th>Concom_Broad_Spectrum_Penicillins</th>\n",
       "      <th>Concom_Anaesthetics_General</th>\n",
       "      <th>Concom_Viral_Vaccines</th>\n",
       "    </tr>\n",
       "  </thead>\n",
       "  <tbody>\n",
       "    <tr>\n",
       "      <th>0</th>\n",
       "      <td>N</td>\n",
       "      <td>N</td>\n",
       "      <td>N</td>\n",
       "      <td>N</td>\n",
       "      <td>N</td>\n",
       "      <td>N</td>\n",
       "      <td>N</td>\n",
       "      <td>N</td>\n",
       "      <td>N</td>\n",
       "      <td>N</td>\n",
       "    </tr>\n",
       "    <tr>\n",
       "      <th>1</th>\n",
       "      <td>N</td>\n",
       "      <td>N</td>\n",
       "      <td>N</td>\n",
       "      <td>N</td>\n",
       "      <td>N</td>\n",
       "      <td>N</td>\n",
       "      <td>N</td>\n",
       "      <td>N</td>\n",
       "      <td>N</td>\n",
       "      <td>N</td>\n",
       "    </tr>\n",
       "    <tr>\n",
       "      <th>2</th>\n",
       "      <td>Y</td>\n",
       "      <td>N</td>\n",
       "      <td>N</td>\n",
       "      <td>N</td>\n",
       "      <td>N</td>\n",
       "      <td>N</td>\n",
       "      <td>N</td>\n",
       "      <td>N</td>\n",
       "      <td>N</td>\n",
       "      <td>N</td>\n",
       "    </tr>\n",
       "    <tr>\n",
       "      <th>3</th>\n",
       "      <td>N</td>\n",
       "      <td>Y</td>\n",
       "      <td>Y</td>\n",
       "      <td>N</td>\n",
       "      <td>N</td>\n",
       "      <td>N</td>\n",
       "      <td>N</td>\n",
       "      <td>N</td>\n",
       "      <td>N</td>\n",
       "      <td>Y</td>\n",
       "    </tr>\n",
       "    <tr>\n",
       "      <th>4</th>\n",
       "      <td>N</td>\n",
       "      <td>Y</td>\n",
       "      <td>Y</td>\n",
       "      <td>Y</td>\n",
       "      <td>N</td>\n",
       "      <td>N</td>\n",
       "      <td>N</td>\n",
       "      <td>N</td>\n",
       "      <td>N</td>\n",
       "      <td>N</td>\n",
       "    </tr>\n",
       "    <tr>\n",
       "      <th>...</th>\n",
       "      <td>...</td>\n",
       "      <td>...</td>\n",
       "      <td>...</td>\n",
       "      <td>...</td>\n",
       "      <td>...</td>\n",
       "      <td>...</td>\n",
       "      <td>...</td>\n",
       "      <td>...</td>\n",
       "      <td>...</td>\n",
       "      <td>...</td>\n",
       "    </tr>\n",
       "    <tr>\n",
       "      <th>2937</th>\n",
       "      <td>Y</td>\n",
       "      <td>Y</td>\n",
       "      <td>Y</td>\n",
       "      <td>Y</td>\n",
       "      <td>Y</td>\n",
       "      <td>N</td>\n",
       "      <td>N</td>\n",
       "      <td>N</td>\n",
       "      <td>N</td>\n",
       "      <td>N</td>\n",
       "    </tr>\n",
       "    <tr>\n",
       "      <th>2938</th>\n",
       "      <td>N</td>\n",
       "      <td>N</td>\n",
       "      <td>N</td>\n",
       "      <td>Y</td>\n",
       "      <td>N</td>\n",
       "      <td>Y</td>\n",
       "      <td>N</td>\n",
       "      <td>N</td>\n",
       "      <td>N</td>\n",
       "      <td>N</td>\n",
       "    </tr>\n",
       "    <tr>\n",
       "      <th>2939</th>\n",
       "      <td>Y</td>\n",
       "      <td>Y</td>\n",
       "      <td>N</td>\n",
       "      <td>N</td>\n",
       "      <td>N</td>\n",
       "      <td>N</td>\n",
       "      <td>N</td>\n",
       "      <td>N</td>\n",
       "      <td>Y</td>\n",
       "      <td>N</td>\n",
       "    </tr>\n",
       "    <tr>\n",
       "      <th>2940</th>\n",
       "      <td>N</td>\n",
       "      <td>Y</td>\n",
       "      <td>N</td>\n",
       "      <td>Y</td>\n",
       "      <td>N</td>\n",
       "      <td>N</td>\n",
       "      <td>N</td>\n",
       "      <td>N</td>\n",
       "      <td>N</td>\n",
       "      <td>N</td>\n",
       "    </tr>\n",
       "    <tr>\n",
       "      <th>2941</th>\n",
       "      <td>N</td>\n",
       "      <td>Y</td>\n",
       "      <td>N</td>\n",
       "      <td>Y</td>\n",
       "      <td>N</td>\n",
       "      <td>N</td>\n",
       "      <td>N</td>\n",
       "      <td>N</td>\n",
       "      <td>N</td>\n",
       "      <td>N</td>\n",
       "    </tr>\n",
       "  </tbody>\n",
       "</table>\n",
       "<p>2942 rows × 10 columns</p>\n",
       "</div>"
      ],
      "text/plain": [
       "     Concom_Cholesterol_And_Triglyceride_Regulating_Preparations  \\\n",
       "0                                                     N            \n",
       "1                                                     N            \n",
       "2                                                     Y            \n",
       "3                                                     N            \n",
       "4                                                     N            \n",
       "...                                                 ...            \n",
       "2937                                                  Y            \n",
       "2938                                                  N            \n",
       "2939                                                  Y            \n",
       "2940                                                  N            \n",
       "2941                                                  N            \n",
       "\n",
       "     Concom_Narcotics Concom_Systemic_Corticosteroids_Plain  \\\n",
       "0                   N                                     N   \n",
       "1                   N                                     N   \n",
       "2                   N                                     N   \n",
       "3                   Y                                     Y   \n",
       "4                   Y                                     Y   \n",
       "...               ...                                   ...   \n",
       "2937                Y                                     Y   \n",
       "2938                N                                     N   \n",
       "2939                Y                                     N   \n",
       "2940                Y                                     N   \n",
       "2941                Y                                     N   \n",
       "\n",
       "     Concom_Anti_Depressants_And_Mood_Stabilisers Concom_Fluoroquinolones  \\\n",
       "0                                               N                       N   \n",
       "1                                               N                       N   \n",
       "2                                               N                       N   \n",
       "3                                               N                       N   \n",
       "4                                               Y                       N   \n",
       "...                                           ...                     ...   \n",
       "2937                                            Y                       Y   \n",
       "2938                                            Y                       N   \n",
       "2939                                            N                       N   \n",
       "2940                                            Y                       N   \n",
       "2941                                            Y                       N   \n",
       "\n",
       "     Concom_Cephalosporins Concom_Macrolides_And_Similar_Types  \\\n",
       "0                        N                                   N   \n",
       "1                        N                                   N   \n",
       "2                        N                                   N   \n",
       "3                        N                                   N   \n",
       "4                        N                                   N   \n",
       "...                    ...                                 ...   \n",
       "2937                     N                                   N   \n",
       "2938                     Y                                   N   \n",
       "2939                     N                                   N   \n",
       "2940                     N                                   N   \n",
       "2941                     N                                   N   \n",
       "\n",
       "     Concom_Broad_Spectrum_Penicillins Concom_Anaesthetics_General  \\\n",
       "0                                    N                           N   \n",
       "1                                    N                           N   \n",
       "2                                    N                           N   \n",
       "3                                    N                           N   \n",
       "4                                    N                           N   \n",
       "...                                ...                         ...   \n",
       "2937                                 N                           N   \n",
       "2938                                 N                           N   \n",
       "2939                                 N                           Y   \n",
       "2940                                 N                           N   \n",
       "2941                                 N                           N   \n",
       "\n",
       "     Concom_Viral_Vaccines  \n",
       "0                        N  \n",
       "1                        N  \n",
       "2                        N  \n",
       "3                        Y  \n",
       "4                        N  \n",
       "...                    ...  \n",
       "2937                     N  \n",
       "2938                     N  \n",
       "2939                     N  \n",
       "2940                     N  \n",
       "2941                     N  \n",
       "\n",
       "[2942 rows x 10 columns]"
      ]
     },
     "execution_count": 112,
     "metadata": {},
     "output_type": "execute_result"
    }
   ],
   "source": [
    "df.iloc[:,34:44]"
   ]
  },
  {
   "cell_type": "code",
   "execution_count": null,
   "metadata": {},
   "outputs": [],
   "source": []
  }
 ],
 "metadata": {
  "kernelspec": {
   "display_name": "Python 3.8.8 ('base')",
   "language": "python",
   "name": "python3"
  },
  "language_info": {
   "codemirror_mode": {
    "name": "ipython",
    "version": 3
   },
   "file_extension": ".py",
   "mimetype": "text/x-python",
   "name": "python",
   "nbconvert_exporter": "python",
   "pygments_lexer": "ipython3",
   "version": "3.8.8"
  },
  "orig_nbformat": 4,
  "vscode": {
   "interpreter": {
    "hash": "32c9c2e59fb4dccffeb8780d2ed350b5819cc4aed19d31bb644755c863eab2d1"
   }
  }
 },
 "nbformat": 4,
 "nbformat_minor": 2
}
